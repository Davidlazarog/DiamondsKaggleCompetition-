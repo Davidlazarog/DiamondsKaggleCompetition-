{
 "cells": [
  {
   "cell_type": "markdown",
   "metadata": {},
   "source": [
    "## Bienvenido al maravilloso mundo del prueba error!! "
   ]
  },
  {
   "cell_type": "code",
   "execution_count": 1,
   "metadata": {},
   "outputs": [],
   "source": [
    "import pandas as pd\n",
    "import h2o\n",
    "from h2o.automl import H2OAutoML\n",
    "from sklearn import preprocessing"
   ]
  },
  {
   "cell_type": "markdown",
   "metadata": {},
   "source": [
    "\n",
    "### Os presento H20, que te ayuda a predecir un modelo sin tener que ir toqueteando mil parametros\n"
   ]
  },
  {
   "cell_type": "code",
   "execution_count": 2,
   "metadata": {},
   "outputs": [],
   "source": [
    "train=pd.read_csv(\"./Input/train.csv\")\n",
    "pred=pd.read_csv(\"./Input/predict.csv\")"
   ]
  },
  {
   "cell_type": "code",
   "execution_count": 3,
   "metadata": {},
   "outputs": [
    {
     "data": {
      "text/html": [
       "<div>\n",
       "<style scoped>\n",
       "    .dataframe tbody tr th:only-of-type {\n",
       "        vertical-align: middle;\n",
       "    }\n",
       "\n",
       "    .dataframe tbody tr th {\n",
       "        vertical-align: top;\n",
       "    }\n",
       "\n",
       "    .dataframe thead th {\n",
       "        text-align: right;\n",
       "    }\n",
       "</style>\n",
       "<table border=\"1\" class=\"dataframe\">\n",
       "  <thead>\n",
       "    <tr style=\"text-align: right;\">\n",
       "      <th></th>\n",
       "      <th>id</th>\n",
       "      <th>carat</th>\n",
       "      <th>cut</th>\n",
       "      <th>color</th>\n",
       "      <th>clarity</th>\n",
       "      <th>depth</th>\n",
       "      <th>table</th>\n",
       "      <th>x</th>\n",
       "      <th>y</th>\n",
       "      <th>z</th>\n",
       "    </tr>\n",
       "  </thead>\n",
       "  <tbody>\n",
       "    <tr>\n",
       "      <th>0</th>\n",
       "      <td>0</td>\n",
       "      <td>0.33</td>\n",
       "      <td>4</td>\n",
       "      <td>5</td>\n",
       "      <td>1</td>\n",
       "      <td>62.0</td>\n",
       "      <td>58.0</td>\n",
       "      <td>4.44</td>\n",
       "      <td>4.46</td>\n",
       "      <td>2.76</td>\n",
       "    </tr>\n",
       "    <tr>\n",
       "      <th>1</th>\n",
       "      <td>1</td>\n",
       "      <td>1.21</td>\n",
       "      <td>4</td>\n",
       "      <td>0</td>\n",
       "      <td>3</td>\n",
       "      <td>62.4</td>\n",
       "      <td>58.0</td>\n",
       "      <td>6.77</td>\n",
       "      <td>6.83</td>\n",
       "      <td>4.24</td>\n",
       "    </tr>\n",
       "    <tr>\n",
       "      <th>2</th>\n",
       "      <td>2</td>\n",
       "      <td>1.06</td>\n",
       "      <td>4</td>\n",
       "      <td>0</td>\n",
       "      <td>2</td>\n",
       "      <td>59.3</td>\n",
       "      <td>60.0</td>\n",
       "      <td>6.64</td>\n",
       "      <td>6.71</td>\n",
       "      <td>3.96</td>\n",
       "    </tr>\n",
       "    <tr>\n",
       "      <th>3</th>\n",
       "      <td>3</td>\n",
       "      <td>0.36</td>\n",
       "      <td>2</td>\n",
       "      <td>1</td>\n",
       "      <td>6</td>\n",
       "      <td>61.4</td>\n",
       "      <td>57.0</td>\n",
       "      <td>4.64</td>\n",
       "      <td>4.61</td>\n",
       "      <td>2.54</td>\n",
       "    </tr>\n",
       "    <tr>\n",
       "      <th>4</th>\n",
       "      <td>4</td>\n",
       "      <td>0.70</td>\n",
       "      <td>2</td>\n",
       "      <td>1</td>\n",
       "      <td>4</td>\n",
       "      <td>62.3</td>\n",
       "      <td>54.0</td>\n",
       "      <td>5.67</td>\n",
       "      <td>5.72</td>\n",
       "      <td>3.55</td>\n",
       "    </tr>\n",
       "  </tbody>\n",
       "</table>\n",
       "</div>"
      ],
      "text/plain": [
       "   id  carat  cut  color  clarity  depth  table     x     y     z\n",
       "0   0   0.33    4      5        1   62.0   58.0  4.44  4.46  2.76\n",
       "1   1   1.21    4      0        3   62.4   58.0  6.77  6.83  4.24\n",
       "2   2   1.06    4      0        2   59.3   60.0  6.64  6.71  3.96\n",
       "3   3   0.36    2      1        6   61.4   57.0  4.64  4.61  2.54\n",
       "4   4   0.70    2      1        4   62.3   54.0  5.67  5.72  3.55"
      ]
     },
     "execution_count": 3,
     "metadata": {},
     "output_type": "execute_result"
    }
   ],
   "source": [
    "label = preprocessing.LabelEncoder()\n",
    "train[\"cut\"] = label.fit_transform(train[\"cut\"])\n",
    "train[\"color\"] = label.fit_transform(train[\"color\"])\n",
    "train[\"clarity\"] = label.fit_transform(train[\"clarity\"])\n",
    "train.head()\n",
    "pred[\"cut\"] = label.fit_transform(pred[\"cut\"])\n",
    "pred[\"color\"] = label.fit_transform(pred[\"color\"])\n",
    "pred[\"clarity\"] = label.fit_transform(pred[\"clarity\"])\n",
    "pred.head()"
   ]
  },
  {
   "cell_type": "code",
   "execution_count": 4,
   "metadata": {},
   "outputs": [
    {
     "name": "stdout",
     "output_type": "stream",
     "text": [
      "Checking whether there is an H2O instance running at http://localhost:54321 ..... not found.\n",
      "Attempting to start a local H2O server...\n",
      "  Java Version: java version \"11.0.8\" 2020-07-14 LTS; Java(TM) SE Runtime Environment 18.9 (build 11.0.8+10-LTS); Java HotSpot(TM) 64-Bit Server VM 18.9 (build 11.0.8+10-LTS, mixed mode)\n",
      "  Starting server from /usr/local/lib/python3.8/site-packages/h2o/backend/bin/h2o.jar\n",
      "  Ice root: /var/folders/0v/jh6lh2p53ls9j3fnf4prlq7c0000gn/T/tmpsuogok50\n",
      "  JVM stdout: /var/folders/0v/jh6lh2p53ls9j3fnf4prlq7c0000gn/T/tmpsuogok50/h2o_david_started_from_python.out\n",
      "  JVM stderr: /var/folders/0v/jh6lh2p53ls9j3fnf4prlq7c0000gn/T/tmpsuogok50/h2o_david_started_from_python.err\n",
      "  Server is running at http://127.0.0.1:54321\n",
      "Connecting to H2O server at http://127.0.0.1:54321 ... successful.\n"
     ]
    },
    {
     "data": {
      "text/html": [
       "<div style=\"overflow:auto\"><table style=\"width:50%\"><tr><td>H2O_cluster_uptime:</td>\n",
       "<td>04 secs</td></tr>\n",
       "<tr><td>H2O_cluster_timezone:</td>\n",
       "<td>Europe/Madrid</td></tr>\n",
       "<tr><td>H2O_data_parsing_timezone:</td>\n",
       "<td>UTC</td></tr>\n",
       "<tr><td>H2O_cluster_version:</td>\n",
       "<td>3.30.1.3</td></tr>\n",
       "<tr><td>H2O_cluster_version_age:</td>\n",
       "<td>7 days, 17 hours and 8 minutes </td></tr>\n",
       "<tr><td>H2O_cluster_name:</td>\n",
       "<td>H2O_from_python_david_fphjby</td></tr>\n",
       "<tr><td>H2O_cluster_total_nodes:</td>\n",
       "<td>1</td></tr>\n",
       "<tr><td>H2O_cluster_free_memory:</td>\n",
       "<td>2 Gb</td></tr>\n",
       "<tr><td>H2O_cluster_total_cores:</td>\n",
       "<td>4</td></tr>\n",
       "<tr><td>H2O_cluster_allowed_cores:</td>\n",
       "<td>4</td></tr>\n",
       "<tr><td>H2O_cluster_status:</td>\n",
       "<td>accepting new members, healthy</td></tr>\n",
       "<tr><td>H2O_connection_url:</td>\n",
       "<td>http://127.0.0.1:54321</td></tr>\n",
       "<tr><td>H2O_connection_proxy:</td>\n",
       "<td>{\"http\": null, \"https\": null}</td></tr>\n",
       "<tr><td>H2O_internal_security:</td>\n",
       "<td>False</td></tr>\n",
       "<tr><td>H2O_API_Extensions:</td>\n",
       "<td>Amazon S3, XGBoost, Algos, AutoML, Core V3, TargetEncoder, Core V4</td></tr>\n",
       "<tr><td>Python_version:</td>\n",
       "<td>3.8.5 final</td></tr></table></div>"
      ],
      "text/plain": [
       "--------------------------  ------------------------------------------------------------------\n",
       "H2O_cluster_uptime:         04 secs\n",
       "H2O_cluster_timezone:       Europe/Madrid\n",
       "H2O_data_parsing_timezone:  UTC\n",
       "H2O_cluster_version:        3.30.1.3\n",
       "H2O_cluster_version_age:    7 days, 17 hours and 8 minutes\n",
       "H2O_cluster_name:           H2O_from_python_david_fphjby\n",
       "H2O_cluster_total_nodes:    1\n",
       "H2O_cluster_free_memory:    2 Gb\n",
       "H2O_cluster_total_cores:    4\n",
       "H2O_cluster_allowed_cores:  4\n",
       "H2O_cluster_status:         accepting new members, healthy\n",
       "H2O_connection_url:         http://127.0.0.1:54321\n",
       "H2O_connection_proxy:       {\"http\": null, \"https\": null}\n",
       "H2O_internal_security:      False\n",
       "H2O_API_Extensions:         Amazon S3, XGBoost, Algos, AutoML, Core V3, TargetEncoder, Core V4\n",
       "Python_version:             3.8.5 final\n",
       "--------------------------  ------------------------------------------------------------------"
      ]
     },
     "metadata": {},
     "output_type": "display_data"
    }
   ],
   "source": [
    "h2o.init()"
   ]
  },
  {
   "cell_type": "code",
   "execution_count": 5,
   "metadata": {},
   "outputs": [
    {
     "name": "stdout",
     "output_type": "stream",
     "text": [
      "Parse progress: |█████████████████████████████████████████████████████████| 100%\n",
      "Parse progress: |█████████████████████████████████████████████████████████| 100%\n"
     ]
    }
   ],
   "source": [
    "h2train = h2o.H2OFrame(train)\n",
    "h2pred = h2o.H2OFrame(pred)"
   ]
  },
  {
   "cell_type": "code",
   "execution_count": 6,
   "metadata": {},
   "outputs": [
    {
     "data": {
      "text/plain": [
       "Index(['id', 'carat', 'cut', 'color', 'clarity', 'depth', 'table', 'x', 'y',\n",
       "       'z', 'price'],\n",
       "      dtype='object')"
      ]
     },
     "execution_count": 6,
     "metadata": {},
     "output_type": "execute_result"
    }
   ],
   "source": [
    "train.columns"
   ]
  },
  {
   "cell_type": "code",
   "execution_count": 7,
   "metadata": {},
   "outputs": [],
   "source": [
    "x = list(train.drop(columns = ['price', 'id'] ).columns)\n",
    "y = 'price'"
   ]
  },
  {
   "cell_type": "code",
   "execution_count": 10,
   "metadata": {},
   "outputs": [
    {
     "name": "stdout",
     "output_type": "stream",
     "text": [
      "AutoML progress: |████████████████████████████████████████████████████████| 100%\n"
     ]
    }
   ],
   "source": [
    "automl = H2OAutoML(max_runtime_secs = 999)\n",
    "automl.train(x,y,training_frame = h2train)"
   ]
  },
  {
   "cell_type": "code",
   "execution_count": 11,
   "metadata": {
    "scrolled": true
   },
   "outputs": [
    {
     "data": {
      "text/html": [
       "<table>\n",
       "<thead>\n",
       "<tr><th>model_id                                           </th><th style=\"text-align: right;\">  mean_residual_deviance</th><th style=\"text-align: right;\">   rmse</th><th style=\"text-align: right;\">   mse</th><th style=\"text-align: right;\">    mae</th><th style=\"text-align: right;\">      rmsle</th></tr>\n",
       "</thead>\n",
       "<tbody>\n",
       "<tr><td>StackedEnsemble_AllModels_AutoML_20201006_085524   </td><td style=\"text-align: right;\">                  285408</td><td style=\"text-align: right;\">534.236</td><td style=\"text-align: right;\">285408</td><td style=\"text-align: right;\">268.701</td><td style=\"text-align: right;\">  0.0925949</td></tr>\n",
       "<tr><td>StackedEnsemble_BestOfFamily_AutoML_20201006_085524</td><td style=\"text-align: right;\">                  288795</td><td style=\"text-align: right;\">537.396</td><td style=\"text-align: right;\">288795</td><td style=\"text-align: right;\">270.17 </td><td style=\"text-align: right;\">  0.0918256</td></tr>\n",
       "<tr><td>GBM_grid__1_AutoML_20201006_085524_model_4         </td><td style=\"text-align: right;\">                  298751</td><td style=\"text-align: right;\">546.581</td><td style=\"text-align: right;\">298751</td><td style=\"text-align: right;\">272.445</td><td style=\"text-align: right;\">  0.090949 </td></tr>\n",
       "<tr><td>GBM_2_AutoML_20201006_085524                       </td><td style=\"text-align: right;\">                  299076</td><td style=\"text-align: right;\">546.878</td><td style=\"text-align: right;\">299076</td><td style=\"text-align: right;\">283.222</td><td style=\"text-align: right;\">nan        </td></tr>\n",
       "<tr><td>GBM_3_AutoML_20201006_085524                       </td><td style=\"text-align: right;\">                  302699</td><td style=\"text-align: right;\">550.181</td><td style=\"text-align: right;\">302699</td><td style=\"text-align: right;\">281.403</td><td style=\"text-align: right;\">nan        </td></tr>\n",
       "<tr><td>GBM_grid__1_AutoML_20201006_085524_model_5         </td><td style=\"text-align: right;\">                  304816</td><td style=\"text-align: right;\">552.102</td><td style=\"text-align: right;\">304816</td><td style=\"text-align: right;\">274.768</td><td style=\"text-align: right;\">  0.0926815</td></tr>\n",
       "<tr><td>GBM_1_AutoML_20201006_085524                       </td><td style=\"text-align: right;\">                  305013</td><td style=\"text-align: right;\">552.28 </td><td style=\"text-align: right;\">305013</td><td style=\"text-align: right;\">289.289</td><td style=\"text-align: right;\">  0.10774  </td></tr>\n",
       "<tr><td>GBM_grid__1_AutoML_20201006_085524_model_6         </td><td style=\"text-align: right;\">                  305556</td><td style=\"text-align: right;\">552.771</td><td style=\"text-align: right;\">305556</td><td style=\"text-align: right;\">282.794</td><td style=\"text-align: right;\">  0.103045 </td></tr>\n",
       "<tr><td>GBM_4_AutoML_20201006_085524                       </td><td style=\"text-align: right;\">                  311349</td><td style=\"text-align: right;\">557.986</td><td style=\"text-align: right;\">311349</td><td style=\"text-align: right;\">284.856</td><td style=\"text-align: right;\">  0.101595 </td></tr>\n",
       "<tr><td>XGBoost_grid__1_AutoML_20201006_085524_model_2     </td><td style=\"text-align: right;\">                  318712</td><td style=\"text-align: right;\">564.546</td><td style=\"text-align: right;\">318712</td><td style=\"text-align: right;\">296.909</td><td style=\"text-align: right;\">nan        </td></tr>\n",
       "</tbody>\n",
       "</table>"
      ]
     },
     "metadata": {},
     "output_type": "display_data"
    },
    {
     "data": {
      "text/plain": []
     },
     "execution_count": 11,
     "metadata": {},
     "output_type": "execute_result"
    }
   ],
   "source": [
    "leader_board = automl.leaderboard\n",
    "leader_board.head()"
   ]
  },
  {
   "cell_type": "code",
   "execution_count": 12,
   "metadata": {},
   "outputs": [
    {
     "name": "stdout",
     "output_type": "stream",
     "text": [
      "stackedensemble prediction progress: |████████████████████████████████████| 100%\n"
     ]
    },
    {
     "data": {
      "text/html": [
       "<table>\n",
       "<thead>\n",
       "<tr><th style=\"text-align: right;\">  predict</th></tr>\n",
       "</thead>\n",
       "<tbody>\n",
       "<tr><td style=\"text-align: right;\">  730.437</td></tr>\n",
       "<tr><td style=\"text-align: right;\"> 6156.51 </td></tr>\n",
       "<tr><td style=\"text-align: right;\"> 5829.89 </td></tr>\n",
       "<tr><td style=\"text-align: right;\"> 1139.29 </td></tr>\n",
       "<tr><td style=\"text-align: right;\"> 3192.88 </td></tr>\n",
       "<tr><td style=\"text-align: right;\">  542.487</td></tr>\n",
       "<tr><td style=\"text-align: right;\"> 1425.24 </td></tr>\n",
       "<tr><td style=\"text-align: right;\">  868.043</td></tr>\n",
       "<tr><td style=\"text-align: right;\"> 8884.54 </td></tr>\n",
       "<tr><td style=\"text-align: right;\">  682.193</td></tr>\n",
       "</tbody>\n",
       "</table>"
      ]
     },
     "metadata": {},
     "output_type": "display_data"
    },
    {
     "data": {
      "text/plain": []
     },
     "execution_count": 12,
     "metadata": {},
     "output_type": "execute_result"
    }
   ],
   "source": [
    "predictions = automl.leader.predict(h2pred)\n",
    "predictions.head()"
   ]
  },
  {
   "cell_type": "code",
   "execution_count": 40,
   "metadata": {},
   "outputs": [],
   "source": [
    "sub = predictions.as_data_frame()\n",
    "columns = ['id','price']\n",
    "sub =sub.reset_index()\n",
    "sub.columns = columns\n"
   ]
  },
  {
   "cell_type": "markdown",
   "metadata": {},
   "source": [
    "### Guardamos nuestro modelo"
   ]
  },
  {
   "cell_type": "code",
   "execution_count": 41,
   "metadata": {},
   "outputs": [],
   "source": [
    "sub.to_csv('modelh2o8.csv',index=False)"
   ]
  }
 ],
 "metadata": {
  "kernelspec": {
   "display_name": "Python 3",
   "language": "python",
   "name": "python3"
  },
  "language_info": {
   "codemirror_mode": {
    "name": "ipython",
    "version": 3
   },
   "file_extension": ".py",
   "mimetype": "text/x-python",
   "name": "python",
   "nbconvert_exporter": "python",
   "pygments_lexer": "ipython3",
   "version": "3.8.5"
  }
 },
 "nbformat": 4,
 "nbformat_minor": 4
}
